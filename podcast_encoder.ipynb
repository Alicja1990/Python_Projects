{
 "cells": [
  {
   "cell_type": "code",
   "execution_count": 1,
   "metadata": {},
   "outputs": [],
   "source": [
    "import torch\n",
    "import yt_dlp as youtube_dl\n",
    "from transformers import pipeline\n",
    "from transformers.pipelines.audio_utils import ffmpeg_read\n",
    "import tempfile\n",
    "import os\n",
    "from sentence_transformers import SentenceTransformer"
   ]
  },
  {
   "cell_type": "code",
   "execution_count": 3,
   "metadata": {},
   "outputs": [],
   "source": [
    "MODEL_NAME = \"openai/whisper-small\"\n",
    "BATCH_SIZE = 8\n",
    "FILE_LIMIT_MB = 1000\n",
    "YT_LENGTH_LIMIT_S = 3600  # limit to 1 hour YouTube files\n",
    "\n",
    "device = \"cpu\""
   ]
  },
  {
   "cell_type": "code",
   "execution_count": 4,
   "metadata": {},
   "outputs": [
    {
     "name": "stdout",
     "output_type": "stream",
     "text": [
      "WARNING:tensorflow:From c:\\Users\\alicj\\miniconda3\\envs\\hugging_face\\Lib\\site-packages\\tf_keras\\src\\losses.py:2976: The name tf.losses.sparse_softmax_cross_entropy is deprecated. Please use tf.compat.v1.losses.sparse_softmax_cross_entropy instead.\n",
      "\n"
     ]
    },
    {
     "name": "stderr",
     "output_type": "stream",
     "text": [
      "Special tokens have been added in the vocabulary, make sure the associated word embeddings are fine-tuned or trained.\n"
     ]
    }
   ],
   "source": [
    "pipe = pipeline(\n",
    "    task=\"automatic-speech-recognition\",\n",
    "    model=MODEL_NAME,\n",
    "    chunk_length_s=30,\n",
    "    device=device,\n",
    ")"
   ]
  },
  {
   "cell_type": "code",
   "execution_count": 5,
   "metadata": {},
   "outputs": [],
   "source": [
    "yt_links = dict = {\n",
    "    'https://www.youtube.com/watch?v=GKof6sDt3FM': 9, \n",
    "    'https://www.youtube.com/watch?v=fc_oVKEAQ9g': 8,\n",
    "    'https://www.youtube.com/watch?v=GW1Oqntimn0': 5,\n",
    "    'https://www.youtube.com/watch?v=lzt0IsSkBsg': 2,\n",
    "    'https://www.youtube.com/watch?v=P-g4f5FrDSE': 7,\n",
    "    'https://www.youtube.com/watch?v=P-g4f5FrDSE': 1,\n",
    "    'https://www.youtube.com/watch?v=uq83YeThvxU': 1, \n",
    "    }"
   ]
  },
  {
   "cell_type": "code",
   "execution_count": 6,
   "metadata": {},
   "outputs": [],
   "source": [
    "def _return_yt_html_embed(yt_url):\n",
    "    video_id = yt_url.split(\"?v=\")[-1]\n",
    "    HTML_str = (\n",
    "        f'<center> <iframe width=\"500\" height=\"320\" src=\"https://www.youtube.com/embed/{video_id}\"> </iframe>'\n",
    "        \" </center>\"\n",
    "    )\n",
    "    return HTML_str"
   ]
  },
  {
   "cell_type": "code",
   "execution_count": 7,
   "metadata": {},
   "outputs": [],
   "source": [
    "def download_yt_audio(yt_url, filename):\n",
    "    info_loader = youtube_dl.YoutubeDL()\n",
    "    \n",
    "    info = info_loader.extract_info(yt_url, download=False)\n",
    "\n",
    "    \n",
    "    file_length = info[\"duration_string\"]\n",
    "    file_h_m_s = file_length.split(\":\")\n",
    "    file_h_m_s = [int(sub_length) for sub_length in file_h_m_s]\n",
    "    \n",
    "    if len(file_h_m_s) == 1:\n",
    "        file_h_m_s.insert(0, 0)\n",
    "    if len(file_h_m_s) == 2:\n",
    "        file_h_m_s.insert(0, 0)\n",
    "    file_length_s = file_h_m_s[0] * 3600 + file_h_m_s[1] * 60 + file_h_m_s[2]\n",
    "    \n",
    "    if file_length_s > YT_LENGTH_LIMIT_S:\n",
    "        yt_length_limit_hms = time.strftime(\"%HH:%MM:%SS\", time.gmtime(YT_LENGTH_LIMIT_S))\n",
    "        file_length_hms = time.strftime(\"%HH:%MM:%SS\", time.gmtime(file_length_s))\n",
    "        raise gr.Error(f\"Maximum YouTube length is {yt_length_limit_hms}, got {file_length_hms} YouTube video.\")\n",
    "    \n",
    "    ydl_opts = {\"outtmpl\": filename, \"format\": \"worstvideo[ext=mp4]+bestaudio[ext=m4a]/best[ext=mp4]/best\"}\n",
    "    \n",
    "    with youtube_dl.YoutubeDL(ydl_opts) as ydl:\n",
    "            ydl.download([yt_url])\n"
   ]
  },
  {
   "cell_type": "code",
   "execution_count": 8,
   "metadata": {},
   "outputs": [],
   "source": [
    "def yt_transcribe(yt_url, task, max_filesize=75.0):\n",
    "    html_embed_str = _return_yt_html_embed(yt_url)\n",
    "\n",
    "    with tempfile.TemporaryDirectory() as tmpdirname:\n",
    "        filepath = os.path.join(tmpdirname, \"video.mp4\")\n",
    "        download_yt_audio(yt_url, filepath)\n",
    "        with open(filepath, \"rb\") as f:\n",
    "            inputs = f.read()\n",
    "\n",
    "    inputs = ffmpeg_read(inputs, pipe.feature_extractor.sampling_rate)\n",
    "    inputs = {\"array\": inputs, \"sampling_rate\": pipe.feature_extractor.sampling_rate}\n",
    "\n",
    "    text = pipe(inputs, batch_size=BATCH_SIZE, generate_kwargs={\"task\": task}, return_timestamps=True)[\"text\"]\n",
    "\n",
    "    return html_embed_str, text"
   ]
  },
  {
   "cell_type": "code",
   "execution_count": 9,
   "metadata": {},
   "outputs": [],
   "source": [
    "embedding_model = SentenceTransformer('sentence-transformers/all-MiniLM-L6-v2')"
   ]
  },
  {
   "cell_type": "code",
   "execution_count": 14,
   "metadata": {},
   "outputs": [
    {
     "data": {
      "text/plain": [
       "'https://www.youtube.com/watch?v=GKof6sDt3FM'"
      ]
     },
     "execution_count": 14,
     "metadata": {},
     "output_type": "execute_result"
    }
   ],
   "source": []
  },
  {
   "cell_type": "code",
   "execution_count": 26,
   "metadata": {},
   "outputs": [
    {
     "name": "stdout",
     "output_type": "stream",
     "text": [
      "[youtube] Extracting URL: https://www.youtube.com/watch?v=GW1Oqntimn0\n",
      "[youtube] GW1Oqntimn0: Downloading webpage\n",
      "[youtube] GW1Oqntimn0: Downloading ios player API JSON\n",
      "[youtube] GW1Oqntimn0: Downloading android player API JSON\n"
     ]
    },
    {
     "name": "stderr",
     "output_type": "stream",
     "text": [
      "WARNING: [youtube] Skipping player responses from android clients (got player responses for video \"aQvGIIdgFDM\" instead of \"GW1Oqntimn0\")\n"
     ]
    },
    {
     "name": "stdout",
     "output_type": "stream",
     "text": [
      "[youtube] GW1Oqntimn0: Downloading player 45986ce4\n",
      "[youtube] GW1Oqntimn0: Downloading m3u8 information\n",
      "[youtube] Extracting URL: https://www.youtube.com/watch?v=GW1Oqntimn0\n",
      "[youtube] GW1Oqntimn0: Downloading webpage\n",
      "[youtube] GW1Oqntimn0: Downloading ios player API JSON\n",
      "[youtube] GW1Oqntimn0: Downloading android player API JSON\n"
     ]
    },
    {
     "name": "stderr",
     "output_type": "stream",
     "text": [
      "WARNING: [youtube] Skipping player responses from android clients (got player responses for video \"aQvGIIdgFDM\" instead of \"GW1Oqntimn0\")\n"
     ]
    },
    {
     "name": "stdout",
     "output_type": "stream",
     "text": [
      "[youtube] GW1Oqntimn0: Downloading m3u8 information\n",
      "[info] GW1Oqntimn0: Downloading 1 format(s): 602+140\n",
      "[hlsnative] Downloading m3u8 manifest\n",
      "[hlsnative] Total fragments: 112\n",
      "[download] Destination: C:\\Users\\alicj\\AppData\\Local\\Temp\\tmp08fzrdao\\video.f602.mp4\n",
      "[download] 100% of    1.75MiB in 00:00:07 at 234.83KiB/s                  \n",
      "[download] Destination: C:\\Users\\alicj\\AppData\\Local\\Temp\\tmp08fzrdao\\video.f140.m4a\n",
      "[download] 100% of    9.58MiB in 00:00:06 at 1.46MiB/s     \n",
      "[Merger] Merging formats into \"C:\\Users\\alicj\\AppData\\Local\\Temp\\tmp08fzrdao\\video.mp4\"\n",
      "Deleting original file C:\\Users\\alicj\\AppData\\Local\\Temp\\tmp08fzrdao\\video.f140.m4a (pass -k to keep)\n",
      "Deleting original file C:\\Users\\alicj\\AppData\\Local\\Temp\\tmp08fzrdao\\video.f602.mp4 (pass -k to keep)\n",
      "[youtube] Extracting URL: https://www.youtube.com/watch?v=lzt0IsSkBsg\n",
      "[youtube] lzt0IsSkBsg: Downloading webpage\n",
      "[youtube] lzt0IsSkBsg: Downloading ios player API JSON\n",
      "[youtube] lzt0IsSkBsg: Downloading android player API JSON\n"
     ]
    },
    {
     "name": "stderr",
     "output_type": "stream",
     "text": [
      "WARNING: [youtube] Skipping player responses from android clients (got player responses for video \"aQvGIIdgFDM\" instead of \"lzt0IsSkBsg\")\n"
     ]
    },
    {
     "name": "stdout",
     "output_type": "stream",
     "text": [
      "[youtube] lzt0IsSkBsg: Downloading m3u8 information\n",
      "[youtube] Extracting URL: https://www.youtube.com/watch?v=lzt0IsSkBsg\n",
      "[youtube] lzt0IsSkBsg: Downloading webpage\n",
      "[youtube] lzt0IsSkBsg: Downloading ios player API JSON\n",
      "[youtube] lzt0IsSkBsg: Downloading android player API JSON\n"
     ]
    },
    {
     "name": "stderr",
     "output_type": "stream",
     "text": [
      "WARNING: [youtube] Skipping player responses from android clients (got player responses for video \"aQvGIIdgFDM\" instead of \"lzt0IsSkBsg\")\n"
     ]
    },
    {
     "name": "stdout",
     "output_type": "stream",
     "text": [
      "[youtube] lzt0IsSkBsg: Downloading m3u8 information\n",
      "[info] lzt0IsSkBsg: Downloading 1 format(s): 602+140\n",
      "[hlsnative] Downloading m3u8 manifest\n",
      "[hlsnative] Total fragments: 142\n",
      "[download] Destination: C:\\Users\\alicj\\AppData\\Local\\Temp\\tmpjdghdkj7\\video.f602.mp4\n",
      "[download] 100% of    1.82MiB in 00:00:10 at 170.61KiB/s                 \n",
      "[download] Destination: C:\\Users\\alicj\\AppData\\Local\\Temp\\tmpjdghdkj7\\video.f140.m4a\n",
      "[download] 100% of   11.97MiB in 00:00:08 at 1.47MiB/s     \n",
      "[Merger] Merging formats into \"C:\\Users\\alicj\\AppData\\Local\\Temp\\tmpjdghdkj7\\video.mp4\"\n",
      "Deleting original file C:\\Users\\alicj\\AppData\\Local\\Temp\\tmpjdghdkj7\\video.f602.mp4 (pass -k to keep)\n",
      "Deleting original file C:\\Users\\alicj\\AppData\\Local\\Temp\\tmpjdghdkj7\\video.f140.m4a (pass -k to keep)\n",
      "[youtube] Extracting URL: https://www.youtube.com/watch?v=P-g4f5FrDSE\n",
      "[youtube] P-g4f5FrDSE: Downloading webpage\n",
      "[youtube] P-g4f5FrDSE: Downloading ios player API JSON\n",
      "[youtube] P-g4f5FrDSE: Downloading android player API JSON\n"
     ]
    },
    {
     "name": "stderr",
     "output_type": "stream",
     "text": [
      "WARNING: [youtube] Skipping player responses from android clients (got player responses for video \"aQvGIIdgFDM\" instead of \"P-g4f5FrDSE\")\n"
     ]
    },
    {
     "name": "stdout",
     "output_type": "stream",
     "text": [
      "[youtube] P-g4f5FrDSE: Downloading m3u8 information\n",
      "[youtube] Extracting URL: https://www.youtube.com/watch?v=P-g4f5FrDSE\n",
      "[youtube] P-g4f5FrDSE: Downloading webpage\n",
      "[youtube] P-g4f5FrDSE: Downloading ios player API JSON\n",
      "[youtube] P-g4f5FrDSE: Downloading android player API JSON\n"
     ]
    },
    {
     "name": "stderr",
     "output_type": "stream",
     "text": [
      "WARNING: [youtube] Skipping player responses from android clients (got player responses for video \"aQvGIIdgFDM\" instead of \"P-g4f5FrDSE\")\n"
     ]
    },
    {
     "name": "stdout",
     "output_type": "stream",
     "text": [
      "[youtube] P-g4f5FrDSE: Downloading player d0ea0c5b\n",
      "[youtube] P-g4f5FrDSE: Downloading m3u8 information\n",
      "[info] P-g4f5FrDSE: Downloading 1 format(s): 602+140\n",
      "[hlsnative] Downloading m3u8 manifest\n",
      "[hlsnative] Total fragments: 203\n",
      "[download] Destination: C:\\Users\\alicj\\AppData\\Local\\Temp\\tmp3069jonp\\video.f602.mp4\n",
      "[download] 100% of    3.08MiB in 00:00:27 at 115.38KiB/s                 \n",
      "[download] Destination: C:\\Users\\alicj\\AppData\\Local\\Temp\\tmp3069jonp\\video.f140.m4a\n",
      "[download] 100% of   15.54MiB in 00:00:04 at 3.21MiB/s     \n",
      "[Merger] Merging formats into \"C:\\Users\\alicj\\AppData\\Local\\Temp\\tmp3069jonp\\video.mp4\"\n",
      "Deleting original file C:\\Users\\alicj\\AppData\\Local\\Temp\\tmp3069jonp\\video.f140.m4a (pass -k to keep)\n",
      "Deleting original file C:\\Users\\alicj\\AppData\\Local\\Temp\\tmp3069jonp\\video.f602.mp4 (pass -k to keep)\n",
      "[youtube] Extracting URL: https://www.youtube.com/watch?v=uq83YeThvxU\n",
      "[youtube] uq83YeThvxU: Downloading webpage\n",
      "[youtube] uq83YeThvxU: Downloading ios player API JSON\n",
      "[youtube] uq83YeThvxU: Downloading android player API JSON\n"
     ]
    },
    {
     "name": "stderr",
     "output_type": "stream",
     "text": [
      "WARNING: [youtube] Skipping player responses from android clients (got player responses for video \"aQvGIIdgFDM\" instead of \"uq83YeThvxU\")\n"
     ]
    },
    {
     "name": "stdout",
     "output_type": "stream",
     "text": [
      "[youtube] uq83YeThvxU: Downloading m3u8 information\n",
      "[youtube] Extracting URL: https://www.youtube.com/watch?v=uq83YeThvxU\n",
      "[youtube] uq83YeThvxU: Downloading webpage\n",
      "[youtube] uq83YeThvxU: Downloading ios player API JSON\n",
      "[youtube] uq83YeThvxU: Downloading android player API JSON\n"
     ]
    },
    {
     "name": "stderr",
     "output_type": "stream",
     "text": [
      "WARNING: [youtube] Skipping player responses from android clients (got player responses for video \"aQvGIIdgFDM\" instead of \"uq83YeThvxU\")\n"
     ]
    },
    {
     "name": "stdout",
     "output_type": "stream",
     "text": [
      "[youtube] uq83YeThvxU: Downloading m3u8 information\n",
      "[info] uq83YeThvxU: Downloading 1 format(s): 602+140\n",
      "[hlsnative] Downloading m3u8 manifest\n",
      "[hlsnative] Total fragments: 114\n",
      "[download] Destination: C:\\Users\\alicj\\AppData\\Local\\Temp\\tmpf6jowlck\\video.f602.mp4\n",
      "[download] 100% of    1.74MiB in 00:00:46 at 38.69KiB/s                  \n",
      "[download] Destination: C:\\Users\\alicj\\AppData\\Local\\Temp\\tmpf6jowlck\\video.f140.m4a\n",
      "[download] 100% of    9.61MiB in 00:00:02 at 3.99MiB/s   \n",
      "[Merger] Merging formats into \"C:\\Users\\alicj\\AppData\\Local\\Temp\\tmpf6jowlck\\video.mp4\"\n",
      "Deleting original file C:\\Users\\alicj\\AppData\\Local\\Temp\\tmpf6jowlck\\video.f140.m4a (pass -k to keep)\n",
      "Deleting original file C:\\Users\\alicj\\AppData\\Local\\Temp\\tmpf6jowlck\\video.f602.mp4 (pass -k to keep)\n"
     ]
    }
   ],
   "source": [
    "#strings = []\n",
    "#embeddings = []\n",
    "remaining_links = dict(list(yt_links.items())[2:])\n",
    "for link in remaining_links:\n",
    "    \n",
    "    str = yt_transcribe(link, 'transcribe')\n",
    "    strings.append(str)\n",
    "\n",
    "    emb = embedding_model.encode(str)\n",
    "    embeddings.append(emb)"
   ]
  },
  {
   "cell_type": "code",
   "execution_count": null,
   "metadata": {},
   "outputs": [],
   "source": [
    "import requests\n",
    "from bs4 import BeautifulSoup\n",
    "import re\n",
    "\n",
    "# Replace this with the URL you want to scrape\n",
    "url = 'http://example.com'\n",
    "\n",
    "response = requests.get(url)\n",
    "soup = BeautifulSoup(response.text, 'html.parser')\n",
    "\n",
    "# This pattern matches both 'www.youtube.com' and 'youtu.be' URLs\n",
    "youtube_url_pattern = re.compile(r'(https?://(?:www\\.)?youtube\\.com/watch\\?v=[\\w-]+)|(https?://youtu\\.be/[\\w-]+)')\n",
    "\n",
    "# Find all <a> tags, then filter by href attribute matching the YouTube URL pattern\n",
    "youtube_links = [a['href'] for a in soup.find_all('a', href=True) if youtube_url_pattern.search(a['href'])]\n",
    "\n",
    "for link in youtube_links:\n",
    "    print(link)\n"
   ]
  },
  {
   "cell_type": "code",
   "execution_count": 17,
   "metadata": {},
   "outputs": [],
   "source": [
    "link = list(yt_links.items())[0][0]"
   ]
  },
  {
   "cell_type": "code",
   "execution_count": 27,
   "metadata": {},
   "outputs": [
    {
     "data": {
      "text/plain": [
       "{'https://www.youtube.com/watch?v=GKof6sDt3FM': 9,\n",
       " 'https://www.youtube.com/watch?v=fc_oVKEAQ9g': 8,\n",
       " 'https://www.youtube.com/watch?v=GW1Oqntimn0': 5,\n",
       " 'https://www.youtube.com/watch?v=lzt0IsSkBsg': 2,\n",
       " 'https://www.youtube.com/watch?v=P-g4f5FrDSE': 1,\n",
       " 'https://www.youtube.com/watch?v=uq83YeThvxU': 1}"
      ]
     },
     "execution_count": 27,
     "metadata": {},
     "output_type": "execute_result"
    }
   ],
   "source": [
    "yt_links"
   ]
  },
  {
   "cell_type": "code",
   "execution_count": 32,
   "metadata": {},
   "outputs": [],
   "source": [
    "link = 'https://www.youtube.com/watch?v=_ID4uPKn40w&t=4s'"
   ]
  },
  {
   "cell_type": "code",
   "execution_count": 33,
   "metadata": {},
   "outputs": [
    {
     "name": "stdout",
     "output_type": "stream",
     "text": [
      "[youtube] Extracting URL: https://www.youtube.com/watch?v=_ID4uPKn40w&t=4s\n",
      "[youtube] _ID4uPKn40w: Downloading webpage\n",
      "[youtube] _ID4uPKn40w: Downloading ios player API JSON\n",
      "[youtube] _ID4uPKn40w: Downloading android player API JSON\n"
     ]
    },
    {
     "name": "stderr",
     "output_type": "stream",
     "text": [
      "WARNING: [youtube] Skipping player responses from android clients (got player responses for video \"aQvGIIdgFDM\" instead of \"_ID4uPKn40w\")\n"
     ]
    },
    {
     "name": "stdout",
     "output_type": "stream",
     "text": [
      "[youtube] _ID4uPKn40w: Downloading player 7ebf4817\n",
      "[youtube] _ID4uPKn40w: Downloading m3u8 information\n",
      "[youtube] Extracting URL: https://www.youtube.com/watch?v=_ID4uPKn40w&t=4s\n",
      "[youtube] _ID4uPKn40w: Downloading webpage\n",
      "[youtube] _ID4uPKn40w: Downloading ios player API JSON\n",
      "[youtube] _ID4uPKn40w: Downloading android player API JSON\n"
     ]
    },
    {
     "name": "stderr",
     "output_type": "stream",
     "text": [
      "WARNING: [youtube] Skipping player responses from android clients (got player responses for video \"aQvGIIdgFDM\" instead of \"_ID4uPKn40w\")\n"
     ]
    },
    {
     "name": "stdout",
     "output_type": "stream",
     "text": [
      "[youtube] _ID4uPKn40w: Downloading m3u8 information\n",
      "[info] _ID4uPKn40w: Downloading 1 format(s): 602+140\n",
      "[hlsnative] Downloading m3u8 manifest\n",
      "[hlsnative] Total fragments: 36\n",
      "[download] Destination: C:\\Users\\alicj\\AppData\\Local\\Temp\\tmp1vwmnbvp\\video.f602.mp4\n",
      "[download] 100% of  543.79KiB in 00:00:32 at 16.52KiB/s                  \n",
      "[download] Destination: C:\\Users\\alicj\\AppData\\Local\\Temp\\tmp1vwmnbvp\\video.f140.m4a\n",
      "[download] 100% of    2.97MiB in 00:00:01 at 2.09MiB/s   \n",
      "[Merger] Merging formats into \"C:\\Users\\alicj\\AppData\\Local\\Temp\\tmp1vwmnbvp\\video.mp4\"\n",
      "Deleting original file C:\\Users\\alicj\\AppData\\Local\\Temp\\tmp1vwmnbvp\\video.f602.mp4 (pass -k to keep)\n",
      "Deleting original file C:\\Users\\alicj\\AppData\\Local\\Temp\\tmp1vwmnbvp\\video.f140.m4a (pass -k to keep)\n"
     ]
    },
    {
     "name": "stderr",
     "output_type": "stream",
     "text": [
      "Whisper did not predict an ending timestamp, which can happen if audio is cut off in the middle of a word. Also make sure WhisperTimeStampLogitsProcessor was used during generation.\n"
     ]
    }
   ],
   "source": [
    "str = yt_transcribe(link, 'transcribe')"
   ]
  },
  {
   "cell_type": "code",
   "execution_count": 35,
   "metadata": {},
   "outputs": [
    {
     "data": {
      "text/plain": [
       "('<center> <iframe width=\"500\" height=\"320\" src=\"https://www.youtube.com/embed/_ID4uPKn40w&t=4s\"> </iframe> </center>',\n",
       " \" Peppa Pig Tails That car went really fast. Don't worry, this is why it's very important to stop. Look, listen and always wait for the green man before crossing the road. The Green Man Remember what we learned, children? Stop, look and listen All clear, no cause Let's go. It's safe to cross now. Peppa and her playgroup are learning about road safety today. Hello, Daddy. Hello, Peppa. Peppa's playgroup! Hello Daddy Pig! Oh, green light! Well, see you later Peppa! Thank you for helping us Police Officer Panda! All in a day's work! Peppa is helping Police Officer Panda make sure everyone follows road safety rules. No, no, no. Emily, you need to stay on your side of the road. Sorry Peppa, my wheel is stuck. We'll come help you! Wee-oo, wee-oo, wee-oo! We're keeping the road safe for cars and people. Pedro hasn't noticed that Green Man has turned to red. Pedro hasn't noticed that Green Man has turned to red. Pedro! The red man means don't walk! Thanks, Pepper! All in a day's work! Wait a minute! Freddie is dressed as a robber! We have to catch the rubber. Wee-oo, wee-oo, wee-oo! Oh, the red light means stop. There he goes. Now we've got him. Freddy, are you dressed as a rubber? Because you are a rubber? No, I just like stripes. Oh, so you're not a rubber? Nope. Oh, well, you can go then, but not so fast. OK, bye, Pepper. Woo! Great work, Officer Pepper. Everyone is remembering to stop, look and listen and only walk when they see it. The green man! That means we can go! All in a day's work, Officer Panda. Pepper loves keeping everyone safe and everyone loves feeling safe.\")"
      ]
     },
     "execution_count": 35,
     "metadata": {},
     "output_type": "execute_result"
    }
   ],
   "source": [
    "str"
   ]
  },
  {
   "cell_type": "code",
   "execution_count": 34,
   "metadata": {},
   "outputs": [],
   "source": [
    "emb = embedding_model.encode(str)"
   ]
  },
  {
   "cell_type": "code",
   "execution_count": 45,
   "metadata": {},
   "outputs": [],
   "source": [
    "import pandas as pd\n",
    "import numpy as np"
   ]
  },
  {
   "cell_type": "code",
   "execution_count": 48,
   "metadata": {},
   "outputs": [],
   "source": [
    "embedding = np.append(emb[1], [8])"
   ]
  },
  {
   "cell_type": "code",
   "execution_count": 50,
   "metadata": {},
   "outputs": [
    {
     "data": {
      "text/html": [
       "<div>\n",
       "<style scoped>\n",
       "    .dataframe tbody tr th:only-of-type {\n",
       "        vertical-align: middle;\n",
       "    }\n",
       "\n",
       "    .dataframe tbody tr th {\n",
       "        vertical-align: top;\n",
       "    }\n",
       "\n",
       "    .dataframe thead th {\n",
       "        text-align: right;\n",
       "    }\n",
       "</style>\n",
       "<table border=\"1\" class=\"dataframe\">\n",
       "  <thead>\n",
       "    <tr style=\"text-align: right;\">\n",
       "      <th></th>\n",
       "      <th>0</th>\n",
       "      <th>1</th>\n",
       "      <th>2</th>\n",
       "      <th>3</th>\n",
       "      <th>4</th>\n",
       "      <th>5</th>\n",
       "      <th>6</th>\n",
       "      <th>7</th>\n",
       "      <th>8</th>\n",
       "      <th>9</th>\n",
       "      <th>...</th>\n",
       "      <th>375</th>\n",
       "      <th>376</th>\n",
       "      <th>377</th>\n",
       "      <th>378</th>\n",
       "      <th>379</th>\n",
       "      <th>380</th>\n",
       "      <th>381</th>\n",
       "      <th>382</th>\n",
       "      <th>383</th>\n",
       "      <th>384</th>\n",
       "    </tr>\n",
       "  </thead>\n",
       "  <tbody>\n",
       "    <tr>\n",
       "      <th>0</th>\n",
       "      <td>0.00851</td>\n",
       "      <td>-0.025821</td>\n",
       "      <td>0.015261</td>\n",
       "      <td>-0.040453</td>\n",
       "      <td>0.05157</td>\n",
       "      <td>0.031697</td>\n",
       "      <td>0.086667</td>\n",
       "      <td>0.02466</td>\n",
       "      <td>0.006148</td>\n",
       "      <td>0.011284</td>\n",
       "      <td>...</td>\n",
       "      <td>-0.027371</td>\n",
       "      <td>-0.032646</td>\n",
       "      <td>-0.000516</td>\n",
       "      <td>-0.007383</td>\n",
       "      <td>0.037214</td>\n",
       "      <td>0.009844</td>\n",
       "      <td>0.065942</td>\n",
       "      <td>0.048913</td>\n",
       "      <td>0.001026</td>\n",
       "      <td>8.0</td>\n",
       "    </tr>\n",
       "  </tbody>\n",
       "</table>\n",
       "<p>1 rows × 385 columns</p>\n",
       "</div>"
      ],
      "text/plain": [
       "       0         1         2         3        4         5         6    \\\n",
       "0  0.00851 -0.025821  0.015261 -0.040453  0.05157  0.031697  0.086667   \n",
       "\n",
       "       7         8         9    ...       375       376       377       378  \\\n",
       "0  0.02466  0.006148  0.011284  ... -0.027371 -0.032646 -0.000516 -0.007383   \n",
       "\n",
       "        379       380       381       382       383  384  \n",
       "0  0.037214  0.009844  0.065942  0.048913  0.001026  8.0  \n",
       "\n",
       "[1 rows x 385 columns]"
      ]
     },
     "execution_count": 50,
     "metadata": {},
     "output_type": "execute_result"
    }
   ],
   "source": [
    "pd.DataFrame([embedding])"
   ]
  },
  {
   "cell_type": "code",
   "execution_count": 41,
   "metadata": {},
   "outputs": [
    {
     "data": {
      "text/plain": [
       "array([ 8.50950368e-03, -2.58213710e-02,  1.52609302e-02, -4.04529013e-02,\n",
       "        5.15700169e-02,  3.16970386e-02,  8.66668373e-02,  2.46598739e-02,\n",
       "        6.14783447e-03,  1.12838307e-02,  6.72722161e-02, -2.69743260e-02,\n",
       "        1.96951535e-02,  2.77098045e-02, -5.46237864e-02,  4.63798754e-02,\n",
       "        6.65528188e-03,  2.59582270e-02, -6.95972368e-02, -1.25428280e-02,\n",
       "       -1.75009388e-02, -1.78021789e-02,  3.64594907e-02,  6.69801831e-02,\n",
       "       -1.82968512e-01,  5.96265011e-02, -1.65427756e-03,  5.12275845e-02,\n",
       "       -5.81769422e-02, -7.59152770e-02, -4.77800779e-02,  3.81396292e-03,\n",
       "        3.75223570e-02, -2.20142882e-02, -4.73976843e-02, -2.55290959e-02,\n",
       "        1.23119690e-02, -8.48205294e-03,  1.14649057e-01,  3.35947834e-02,\n",
       "       -3.79976556e-02, -2.12080497e-02, -1.12434411e-02, -2.46901587e-02,\n",
       "        5.45684770e-02, -1.81832574e-02,  3.40077654e-02, -7.20066344e-03,\n",
       "        9.88185778e-02, -1.52009100e-01,  4.20196261e-03,  5.92234544e-02,\n",
       "       -7.92676117e-03,  4.10540737e-02, -3.36256512e-02,  2.04923898e-02,\n",
       "        9.80310142e-02, -2.10575201e-02,  2.67362520e-02, -1.44576104e-02,\n",
       "       -4.12334241e-02, -3.52652632e-02,  2.71299649e-02,  1.28565961e-02,\n",
       "       -1.81500148e-02, -4.10529263e-02, -9.81642827e-02, -3.37238424e-02,\n",
       "        1.50436237e-02,  1.56692728e-01, -4.37482372e-02,  2.09110882e-03,\n",
       "        7.66701698e-02, -2.10408680e-03, -2.93870661e-02,  1.35522168e-02,\n",
       "        6.11636601e-02, -2.31528480e-04, -3.59903951e-03, -5.76971062e-02,\n",
       "        1.04813091e-02, -8.06103926e-03,  3.03086806e-02, -5.74184619e-02,\n",
       "        2.10580323e-02,  1.05266541e-03, -9.42085404e-03,  3.61196287e-02,\n",
       "       -2.11121123e-02, -7.81872347e-02, -4.22456264e-02,  5.69593115e-03,\n",
       "        7.78327510e-02,  3.95938866e-02, -1.67828910e-02, -5.45801297e-02,\n",
       "       -4.80764173e-02, -3.59156057e-02, -1.38776705e-01,  4.00523059e-02,\n",
       "        9.30606648e-02,  1.34501643e-02, -7.43912300e-04, -2.99523678e-02,\n",
       "        4.34220769e-02,  4.19557728e-02, -3.68772494e-03,  6.83942288e-02,\n",
       "        3.82352397e-02,  8.78372565e-02,  8.92417803e-02, -1.53615056e-02,\n",
       "        2.91580986e-03,  3.34966257e-02, -6.13683313e-02,  1.50753502e-02,\n",
       "       -7.56204054e-02, -2.45884061e-02, -3.10278777e-02,  8.64691213e-02,\n",
       "        6.60788640e-02, -6.61165500e-03, -6.12444170e-02,  2.49826461e-02,\n",
       "        3.92101966e-02, -3.58730406e-02,  6.78838044e-02,  2.44422965e-33,\n",
       "       -3.08135338e-02,  3.53154689e-02,  6.00643922e-04,  1.12422742e-02,\n",
       "        1.12255014e-01,  3.74993160e-02, -5.65999709e-02,  1.75009221e-02,\n",
       "       -3.62176821e-02, -4.67114432e-06, -1.95323657e-02, -2.51820292e-02,\n",
       "       -6.16202354e-02, -8.01200494e-02, -1.59907341e-02,  8.83207284e-03,\n",
       "       -1.11517414e-01, -4.73960713e-02, -3.57941501e-02,  2.16767490e-02,\n",
       "        1.68097075e-02,  1.15726481e-03, -2.36351416e-02, -1.42689765e-04,\n",
       "        4.20490950e-02,  5.40941134e-02, -2.06318386e-02, -8.23505074e-02,\n",
       "        1.13762841e-01,  3.36225070e-02, -1.07570484e-01,  7.07904473e-02,\n",
       "       -2.71888562e-02,  5.69892190e-02, -8.69222209e-02, -1.05988368e-01,\n",
       "       -8.73042345e-02, -5.06313480e-02, -7.12550506e-02,  3.63898017e-02,\n",
       "       -4.51685637e-02, -2.01371722e-02, -2.91894320e-02,  1.80726815e-02,\n",
       "       -2.89811715e-02, -7.38378055e-03,  1.59967653e-02,  8.90455693e-02,\n",
       "       -3.02417614e-02,  3.59975584e-02, -5.08063994e-02, -1.16881719e-02,\n",
       "        9.98194609e-03,  5.78407058e-03, -1.89541057e-02, -7.84908608e-03,\n",
       "        7.08489073e-03,  4.94078733e-02, -2.90767159e-02, -3.78914364e-02,\n",
       "        8.65498558e-02,  6.63880780e-02,  4.95613366e-02, -2.33316123e-02,\n",
       "        9.65023134e-03, -5.88975139e-02, -6.03906177e-02,  1.13743721e-02,\n",
       "        6.35906011e-02,  6.53573591e-03, -3.50969732e-02,  1.43313287e-02,\n",
       "       -6.01623906e-03, -1.49167632e-03, -1.69795379e-02, -5.17180227e-02,\n",
       "       -4.02092785e-02,  4.28932570e-02,  2.35417206e-02, -3.66894081e-02,\n",
       "        1.16467681e-02,  2.66566612e-02, -2.83743888e-02, -5.85503839e-02,\n",
       "        4.87162285e-02, -2.44263634e-02,  2.44364999e-02, -8.29569548e-02,\n",
       "       -7.24627897e-02,  2.67364122e-02, -5.35709150e-02,  2.28202902e-02,\n",
       "        3.12755704e-02,  6.14667051e-02, -7.55689889e-02, -3.45591702e-33,\n",
       "        3.16563398e-02,  5.20860916e-03,  3.88796441e-02,  3.40382825e-03,\n",
       "       -6.08341908e-03, -6.18767291e-02,  2.78360192e-02, -3.30618694e-02,\n",
       "        7.45321512e-02, -2.30281390e-02, -7.62947872e-02, -2.80171819e-02,\n",
       "       -2.68427539e-04,  2.07340065e-02,  7.56862387e-02, -4.47458252e-02,\n",
       "        4.66258787e-02,  6.01968355e-02, -6.45850450e-02, -9.42044798e-03,\n",
       "       -1.33420080e-01, -8.11137259e-02, -4.84601818e-02,  9.74831283e-02,\n",
       "       -6.36355504e-02,  7.35962316e-02,  6.35066628e-02, -4.69859205e-02,\n",
       "       -3.29614524e-03, -4.64034593e-03, -6.22652322e-02, -3.13829966e-02,\n",
       "       -5.77397831e-02,  1.73009522e-02, -3.50966528e-02,  1.31190708e-03,\n",
       "       -4.20449488e-02, -7.22975135e-02, -9.09001082e-02,  5.11498451e-02,\n",
       "        3.07315271e-02,  6.42796084e-02,  3.42182666e-02, -3.97423329e-03,\n",
       "       -8.77794400e-02,  1.34920534e-02, -1.28813088e-02,  4.13839631e-02,\n",
       "       -1.35557845e-01,  4.39340323e-02,  6.79874420e-02, -2.16867961e-02,\n",
       "       -3.76154296e-02,  1.61234550e-02,  8.28787778e-03,  1.96429957e-02,\n",
       "        3.56247313e-02,  4.85293102e-03, -6.78211376e-02,  1.64904874e-02,\n",
       "       -2.65951827e-02,  3.90199982e-02, -9.96176377e-02,  7.21287578e-02,\n",
       "        2.42138915e-02, -3.07323113e-02, -9.20975506e-02, -5.65676875e-02,\n",
       "        1.12403363e-01,  2.27274355e-02,  7.61335716e-02,  6.32768348e-02,\n",
       "       -1.05987243e-01, -6.72289878e-02,  1.56175569e-02,  1.01601623e-01,\n",
       "       -1.72973834e-02, -7.31175393e-02, -2.81942659e-03, -5.45785837e-02,\n",
       "       -4.11408627e-03, -7.44903013e-02,  3.88542265e-02,  7.40465969e-02,\n",
       "       -3.86699922e-02, -3.86742093e-02, -1.51897669e-02,  6.43821061e-02,\n",
       "        1.30355591e-02,  1.00978389e-01,  7.45666549e-02,  6.79951981e-02,\n",
       "        4.09281440e-02, -1.14171179e-02, -2.11629812e-02, -4.67902304e-08,\n",
       "        3.46231461e-02,  2.32696459e-02, -4.90634888e-02,  3.33486986e-03,\n",
       "        8.17056671e-02, -1.90701950e-02,  7.64708209e-04, -7.76540712e-02,\n",
       "       -7.38016739e-02,  7.49574602e-02,  4.15970907e-02,  6.09979481e-02,\n",
       "       -4.77631344e-03,  1.07559748e-01,  1.34461718e-02,  1.00256920e-01,\n",
       "        2.62768231e-02, -1.89848803e-02, -1.70373339e-02,  2.27912366e-02,\n",
       "       -8.37804973e-02, -7.87935872e-03, -7.55665600e-02,  4.12075743e-02,\n",
       "        1.86356045e-02, -3.63405864e-03, -7.83291459e-03,  1.59812085e-02,\n",
       "       -4.16841172e-02,  5.46435080e-03,  2.31827758e-02, -2.38146707e-02,\n",
       "       -9.11761895e-02,  1.63907669e-02,  1.53207229e-02, -2.15595588e-02,\n",
       "        7.52250329e-02,  5.45388088e-02,  7.56839290e-02, -9.40332841e-03,\n",
       "        3.49402763e-02,  1.93119105e-02,  1.11782309e-02, -1.16646686e-03,\n",
       "       -1.09894210e-02, -1.78846866e-02, -5.30731939e-02,  2.18789064e-04,\n",
       "        5.19113848e-03, -4.81662117e-02, -4.45053577e-02, -6.45376667e-02,\n",
       "       -2.06900034e-02,  5.80433235e-02,  4.55827974e-02, -2.73714717e-02,\n",
       "       -3.26457396e-02, -5.16178843e-04, -7.38288090e-03,  3.72138321e-02,\n",
       "        9.84426495e-03,  6.59423470e-02,  4.89128046e-02,  1.02646928e-03],\n",
       "      dtype=float32)"
      ]
     },
     "execution_count": 41,
     "metadata": {},
     "output_type": "execute_result"
    }
   ],
   "source": [
    "emb[1]"
   ]
  }
 ],
 "metadata": {
  "kernelspec": {
   "display_name": "hugging_face",
   "language": "python",
   "name": "python3"
  },
  "language_info": {
   "codemirror_mode": {
    "name": "ipython",
    "version": 3
   },
   "file_extension": ".py",
   "mimetype": "text/x-python",
   "name": "python",
   "nbconvert_exporter": "python",
   "pygments_lexer": "ipython3",
   "version": "3.12.2"
  }
 },
 "nbformat": 4,
 "nbformat_minor": 2
}
