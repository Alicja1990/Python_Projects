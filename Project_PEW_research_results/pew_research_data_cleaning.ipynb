{
 "cells": [
  {
   "cell_type": "code",
   "execution_count": 1,
   "metadata": {},
   "outputs": [],
   "source": [
    "import pyreadstat"
   ]
  },
  {
   "cell_type": "code",
   "execution_count": 2,
   "metadata": {},
   "outputs": [],
   "source": [
    "df, meta = pyreadstat.read_sav('pew_global_attitudes_2022.sav')"
   ]
  },
  {
   "cell_type": "code",
   "execution_count": 3,
   "metadata": {},
   "outputs": [
    {
     "data": {
      "text/plain": [
       "(20944, 351)"
      ]
     },
     "execution_count": 3,
     "metadata": {},
     "output_type": "execute_result"
    }
   ],
   "source": [
    "df.shape"
   ]
  },
  {
   "cell_type": "code",
   "execution_count": 4,
   "metadata": {},
   "outputs": [
    {
     "data": {
      "text/plain": [
       "Index(['d_working_cell', 'd_hhcell', 'region_australia', 'region_belgium',\n",
       "       'region_canada', 'region_france', 'region_germany', 'region_greece',\n",
       "       'region_hungary', 'stratum_hun', 'psu_hun', 'urbanicity',\n",
       "       'region_israel', 'reg_eth_israel', 'stratum_isr', 'psu_isr',\n",
       "       'region_italy', 'region_japan', 'region_malaysia', 'region_netherlands',\n",
       "       'region_poland', 'stratum_pol', 'psu_pol', 'region_singapore',\n",
       "       'region_korea', 'region_spain', 'region_sweden', 'region_uk', 'qdate_s',\n",
       "       'qdate_e'],\n",
       "      dtype='object')"
      ]
     },
     "execution_count": 4,
     "metadata": {},
     "output_type": "execute_result"
    }
   ],
   "source": [
    "df.columns[320:350]"
   ]
  },
  {
   "cell_type": "code",
   "execution_count": 5,
   "metadata": {},
   "outputs": [
    {
     "data": {
      "text/html": [
       "<div>\n",
       "<style scoped>\n",
       "    .dataframe tbody tr th:only-of-type {\n",
       "        vertical-align: middle;\n",
       "    }\n",
       "\n",
       "    .dataframe tbody tr th {\n",
       "        vertical-align: top;\n",
       "    }\n",
       "\n",
       "    .dataframe thead th {\n",
       "        text-align: right;\n",
       "    }\n",
       "</style>\n",
       "<table border=\"1\" class=\"dataframe\">\n",
       "  <thead>\n",
       "    <tr style=\"text-align: right;\">\n",
       "      <th></th>\n",
       "      <th>survey</th>\n",
       "      <th>country</th>\n",
       "      <th>weight</th>\n",
       "      <th>id</th>\n",
       "      <th>econ_sit</th>\n",
       "      <th>children_betteroff2</th>\n",
       "      <th>satisfied_democracy</th>\n",
       "      <th>tradition_change</th>\n",
       "      <th>fav_us</th>\n",
       "      <th>fav_china</th>\n",
       "      <th>...</th>\n",
       "      <th>stratum_pol</th>\n",
       "      <th>psu_pol</th>\n",
       "      <th>region_singapore</th>\n",
       "      <th>region_korea</th>\n",
       "      <th>region_spain</th>\n",
       "      <th>region_sweden</th>\n",
       "      <th>region_uk</th>\n",
       "      <th>qdate_s</th>\n",
       "      <th>qdate_e</th>\n",
       "      <th>phone_sample</th>\n",
       "    </tr>\n",
       "  </thead>\n",
       "  <tbody>\n",
       "    <tr>\n",
       "      <th>0</th>\n",
       "      <td>1202202.0</td>\n",
       "      <td>2.0</td>\n",
       "      <td>2.359064</td>\n",
       "      <td>65013438.0</td>\n",
       "      <td>2.0</td>\n",
       "      <td>2.0</td>\n",
       "      <td>2.0</td>\n",
       "      <td>1.0</td>\n",
       "      <td>2.0</td>\n",
       "      <td>4.0</td>\n",
       "      <td>...</td>\n",
       "      <td>NaN</td>\n",
       "      <td>NaN</td>\n",
       "      <td>NaN</td>\n",
       "      <td>NaN</td>\n",
       "      <td>NaN</td>\n",
       "      <td>NaN</td>\n",
       "      <td>NaN</td>\n",
       "      <td>2022-03-28</td>\n",
       "      <td>2022-03-28</td>\n",
       "      <td>1.0</td>\n",
       "    </tr>\n",
       "    <tr>\n",
       "      <th>1</th>\n",
       "      <td>1202202.0</td>\n",
       "      <td>2.0</td>\n",
       "      <td>0.841538</td>\n",
       "      <td>65023887.0</td>\n",
       "      <td>2.0</td>\n",
       "      <td>2.0</td>\n",
       "      <td>3.0</td>\n",
       "      <td>1.0</td>\n",
       "      <td>2.0</td>\n",
       "      <td>3.0</td>\n",
       "      <td>...</td>\n",
       "      <td>NaN</td>\n",
       "      <td>NaN</td>\n",
       "      <td>NaN</td>\n",
       "      <td>NaN</td>\n",
       "      <td>NaN</td>\n",
       "      <td>NaN</td>\n",
       "      <td>NaN</td>\n",
       "      <td>2022-04-28</td>\n",
       "      <td>2022-04-28</td>\n",
       "      <td>1.0</td>\n",
       "    </tr>\n",
       "    <tr>\n",
       "      <th>2</th>\n",
       "      <td>1202202.0</td>\n",
       "      <td>2.0</td>\n",
       "      <td>1.365639</td>\n",
       "      <td>65102073.0</td>\n",
       "      <td>2.0</td>\n",
       "      <td>2.0</td>\n",
       "      <td>1.0</td>\n",
       "      <td>2.0</td>\n",
       "      <td>2.0</td>\n",
       "      <td>3.0</td>\n",
       "      <td>...</td>\n",
       "      <td>NaN</td>\n",
       "      <td>NaN</td>\n",
       "      <td>NaN</td>\n",
       "      <td>NaN</td>\n",
       "      <td>NaN</td>\n",
       "      <td>NaN</td>\n",
       "      <td>NaN</td>\n",
       "      <td>2022-04-22</td>\n",
       "      <td>2022-04-22</td>\n",
       "      <td>2.0</td>\n",
       "    </tr>\n",
       "    <tr>\n",
       "      <th>3</th>\n",
       "      <td>1202202.0</td>\n",
       "      <td>2.0</td>\n",
       "      <td>0.654529</td>\n",
       "      <td>65090528.0</td>\n",
       "      <td>4.0</td>\n",
       "      <td>2.0</td>\n",
       "      <td>4.0</td>\n",
       "      <td>1.0</td>\n",
       "      <td>8.0</td>\n",
       "      <td>8.0</td>\n",
       "      <td>...</td>\n",
       "      <td>NaN</td>\n",
       "      <td>NaN</td>\n",
       "      <td>NaN</td>\n",
       "      <td>NaN</td>\n",
       "      <td>NaN</td>\n",
       "      <td>NaN</td>\n",
       "      <td>NaN</td>\n",
       "      <td>2022-04-07</td>\n",
       "      <td>2022-04-07</td>\n",
       "      <td>2.0</td>\n",
       "    </tr>\n",
       "    <tr>\n",
       "      <th>4</th>\n",
       "      <td>1202202.0</td>\n",
       "      <td>2.0</td>\n",
       "      <td>0.701061</td>\n",
       "      <td>65116743.0</td>\n",
       "      <td>3.0</td>\n",
       "      <td>2.0</td>\n",
       "      <td>2.0</td>\n",
       "      <td>1.0</td>\n",
       "      <td>2.0</td>\n",
       "      <td>3.0</td>\n",
       "      <td>...</td>\n",
       "      <td>NaN</td>\n",
       "      <td>NaN</td>\n",
       "      <td>NaN</td>\n",
       "      <td>NaN</td>\n",
       "      <td>NaN</td>\n",
       "      <td>NaN</td>\n",
       "      <td>NaN</td>\n",
       "      <td>2022-04-15</td>\n",
       "      <td>2022-04-15</td>\n",
       "      <td>2.0</td>\n",
       "    </tr>\n",
       "  </tbody>\n",
       "</table>\n",
       "<p>5 rows × 351 columns</p>\n",
       "</div>"
      ],
      "text/plain": [
       "      survey  country    weight          id  econ_sit  children_betteroff2  \\\n",
       "0  1202202.0      2.0  2.359064  65013438.0       2.0                  2.0   \n",
       "1  1202202.0      2.0  0.841538  65023887.0       2.0                  2.0   \n",
       "2  1202202.0      2.0  1.365639  65102073.0       2.0                  2.0   \n",
       "3  1202202.0      2.0  0.654529  65090528.0       4.0                  2.0   \n",
       "4  1202202.0      2.0  0.701061  65116743.0       3.0                  2.0   \n",
       "\n",
       "   satisfied_democracy  tradition_change  fav_us  fav_china  ...  stratum_pol  \\\n",
       "0                  2.0               1.0     2.0        4.0  ...          NaN   \n",
       "1                  3.0               1.0     2.0        3.0  ...          NaN   \n",
       "2                  1.0               2.0     2.0        3.0  ...          NaN   \n",
       "3                  4.0               1.0     8.0        8.0  ...          NaN   \n",
       "4                  2.0               1.0     2.0        3.0  ...          NaN   \n",
       "\n",
       "   psu_pol  region_singapore  region_korea  region_spain  region_sweden  \\\n",
       "0      NaN               NaN           NaN           NaN            NaN   \n",
       "1      NaN               NaN           NaN           NaN            NaN   \n",
       "2      NaN               NaN           NaN           NaN            NaN   \n",
       "3      NaN               NaN           NaN           NaN            NaN   \n",
       "4      NaN               NaN           NaN           NaN            NaN   \n",
       "\n",
       "   region_uk     qdate_s     qdate_e  phone_sample  \n",
       "0        NaN  2022-03-28  2022-03-28           1.0  \n",
       "1        NaN  2022-04-28  2022-04-28           1.0  \n",
       "2        NaN  2022-04-22  2022-04-22           2.0  \n",
       "3        NaN  2022-04-07  2022-04-07           2.0  \n",
       "4        NaN  2022-04-15  2022-04-15           2.0  \n",
       "\n",
       "[5 rows x 351 columns]"
      ]
     },
     "execution_count": 5,
     "metadata": {},
     "output_type": "execute_result"
    }
   ],
   "source": [
    "df.head()"
   ]
  },
  {
   "cell_type": "code",
   "execution_count": 12,
   "metadata": {},
   "outputs": [
    {
     "data": {
      "text/plain": [
       "['PSU',\n",
       " 'Urbanicity',\n",
       " 'Region',\n",
       " 'Region is majority Jewish or majority Arab',\n",
       " 'Stratum',\n",
       " 'PSU',\n",
       " 'Region',\n",
       " 'Region',\n",
       " 'Region',\n",
       " 'Region',\n",
       " 'Region',\n",
       " 'Stratum',\n",
       " 'PSU',\n",
       " 'Region',\n",
       " 'Region',\n",
       " 'Region',\n",
       " 'Region',\n",
       " 'Region',\n",
       " 'START date of interview (DD/MM/YYYY):',\n",
       " 'END date of interview (DD/MM/YYYY):',\n",
       " 'T.Sample. SAMPLE SOURCE TELEPHONE']"
      ]
     },
     "execution_count": 12,
     "metadata": {},
     "output_type": "execute_result"
    }
   ],
   "source": [
    "meta.column_labels[330:]"
   ]
  },
  {
   "cell_type": "code",
   "execution_count": null,
   "metadata": {},
   "outputs": [],
   "source": []
  },
  {
   "cell_type": "code",
   "execution_count": null,
   "metadata": {},
   "outputs": [],
   "source": []
  },
  {
   "cell_type": "code",
   "execution_count": null,
   "metadata": {},
   "outputs": [],
   "source": []
  },
  {
   "cell_type": "code",
   "execution_count": null,
   "metadata": {},
   "outputs": [],
   "source": []
  },
  {
   "cell_type": "code",
   "execution_count": null,
   "metadata": {},
   "outputs": [],
   "source": []
  },
  {
   "cell_type": "code",
   "execution_count": null,
   "metadata": {},
   "outputs": [],
   "source": []
  }
 ],
 "metadata": {
  "kernelspec": {
   "display_name": "ds",
   "language": "python",
   "name": "python3"
  },
  "language_info": {
   "codemirror_mode": {
    "name": "ipython",
    "version": 3
   },
   "file_extension": ".py",
   "mimetype": "text/x-python",
   "name": "python",
   "nbconvert_exporter": "python",
   "pygments_lexer": "ipython3",
   "version": "3.11.7"
  }
 },
 "nbformat": 4,
 "nbformat_minor": 2
}
