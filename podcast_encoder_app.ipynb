{
 "cells": [
  {
   "cell_type": "code",
   "execution_count": 2,
   "metadata": {},
   "outputs": [],
   "source": [
    "import yt_dlp as youtube_dl\n",
    "from transformers import pipeline\n",
    "from transformers.pipelines.audio_utils import ffmpeg_read\n",
    "import tempfile\n",
    "import os\n",
    "from sentence_transformers import SentenceTransformer\n",
    "import torch\n",
    "import gradio as gr\n",
    "import logging\n",
    "import pandas as pd"
   ]
  },
  {
   "cell_type": "code",
   "execution_count": null,
   "metadata": {},
   "outputs": [],
   "source": [
    "MODEL_NAME = \"openai/whisper-large-v3\"\n",
    "BATCH_SIZE = 8\n",
    "FILE_LIMIT_MB = 1000\n",
    "YT_LENGTH_LIMIT_S = 3600  # limit to 1 hour YouTube files\n",
    "\n",
    "device = 0 if torch.cuda.is_available() else \"cpu\"\n",
    "\n",
    "logging.basicConfig(level=logging.INFO, format='%(asctime)s - %(levelname)s - %(message)s')"
   ]
  },
  {
   "cell_type": "code",
   "execution_count": null,
   "metadata": {},
   "outputs": [],
   "source": [
    "pipe = pipeline(\n",
    "    task=\"automatic-speech-recognition\",\n",
    "    model=MODEL_NAME,\n",
    "    chunk_length_s=30,\n",
    "    device=device,\n",
    ")"
   ]
  },
  {
   "cell_type": "code",
   "execution_count": null,
   "metadata": {},
   "outputs": [],
   "source": [
    "embedding_model = SentenceTransformer('sentence-transformers/all-MiniLM-L6-v2')"
   ]
  },
  {
   "cell_type": "code",
   "execution_count": null,
   "metadata": {},
   "outputs": [],
   "source": [
    "def _return_yt_html_embed(yt_url):\n",
    "    video_id = yt_url.split(\"?v=\")[-1]\n",
    "    HTML_str = (\n",
    "        f'<center> <iframe width=\"500\" height=\"320\" src=\"https://www.youtube.com/embed/{video_id}\"> </iframe>'\n",
    "        \" </center>\"\n",
    "    )\n",
    "    return HTML_str\n",
    "\n",
    "def download_yt_audio(yt_url, filename):\n",
    "    logging.info(\"Starting to download audio from YouTube.\")\n",
    "    try:\n",
    "        info_loader = youtube_dl.YoutubeDL()\n",
    "        info = info_loader.extract_info(yt_url, download=False)\n",
    "\n",
    "    \n",
    "        file_length = info[\"duration_string\"]\n",
    "        file_h_m_s = file_length.split(\":\")\n",
    "        file_h_m_s = [int(sub_length) for sub_length in file_h_m_s]\n",
    "        \n",
    "        if len(file_h_m_s) == 1:\n",
    "            file_h_m_s.insert(0, 0)\n",
    "        if len(file_h_m_s) == 2:\n",
    "            file_h_m_s.insert(0, 0)\n",
    "        file_length_s = file_h_m_s[0] * 3600 + file_h_m_s[1] * 60 + file_h_m_s[2]\n",
    "        \n",
    "        if file_length_s > YT_LENGTH_LIMIT_S:\n",
    "            yt_length_limit_hms = time.strftime(\"%H:%M:%S\", time.gmtime(YT_LENGTH_LIMIT_S))\n",
    "            file_length_hms = time.strftime(\"%H:%M:%S\", time.gmtime(file_length_s))\n",
    "            raise gr.Error(f\"Maximum YouTube length is {yt_length_limit_hms}, got {file_length_hms} YouTube video.\")\n",
    "    \n",
    "        ydl_opts = {\"outtmpl\": filename, \"format\": \"bestaudio/best\"}\n",
    "        with youtube_dl.YoutubeDL(ydl_opts) as ydl:\n",
    "            ydl.download([yt_url])\n",
    "        logging.info(\"Audio download completed.\")\n",
    "    except Exception as e:\n",
    "        logging.error(f\"Failed to download audio: {e}\")\n",
    "        raise\n",
    "\n",
    "\n",
    "def yt_transcribe(yt_url, task, max_filesize=75.0):\n",
    "    logging.info(\"Starting transcription process.\")\n",
    "    html_embed_str = _return_yt_html_embed(yt_url)\n",
    "    try:\n",
    "        with tempfile.TemporaryDirectory() as tmpdirname:\n",
    "            filepath = os.path.join(tmpdirname, \"video.mp4\")\n",
    "            download_yt_audio(yt_url, filepath)\n",
    "            with open(filepath, \"rb\") as f:\n",
    "                inputs = f.read()\n",
    "\n",
    "        inputs = ffmpeg_read(inputs, pipe.feature_extractor.sampling_rate)\n",
    "        inputs = {\"array\": inputs, \"sampling_rate\": pipe.feature_extractor.sampling_rate}\n",
    "        \n",
    "        logging.info(\"Starting transcription process.\")\n",
    "        text = pipe(inputs, batch_size=BATCH_SIZE, generate_kwargs={\"task\": task}, return_timestamps=True)[\"text\"]\n",
    "        logging.info(\"Transcription completed.\")\n",
    "        return html_embed_str, text\n",
    "    except Exception as e:\n",
    "        logging.error(f\"Error during transcription: {e}\")\n",
    "        raise"
   ]
  },
  {
   "cell_type": "code",
   "execution_count": null,
   "metadata": {},
   "outputs": [],
   "source": [
    "def launch(link):\n",
    "    logging.info(\"Received new request for link: %s\", link)\n",
    "    try:\n",
    "        html_embed_str, string = yt_transcribe(link, 'transcribe')\n",
    "        logging.info(\"Embedding the transcription.\")\n",
    "        embedding = embedding_model.encode(string)\n",
    "\n",
    "        df = pd.DataFrame([embedding])  # Create a DataFrame with one row of embeddings\n",
    "        df.to_csv('embeddings.csv', mode='a', header=False, index=False)\n",
    "        \n",
    "        logging.info(\"Embedding completed.\")\n",
    "        return embedding\n",
    "    except Exception as e:\n",
    "        logging.error(f\"An error occurred: {e}\")\n",
    "        raise\n",
    "\n",
    "\n",
    "iface = gr.Interface(launch,\n",
    "                     inputs=gr.Textbox(),\n",
    "                     outputs=\"text\")\n",
    "\n",
    "iface.launch()"
   ]
  }
 ],
 "metadata": {
  "kernelspec": {
   "display_name": "hugging_face",
   "language": "python",
   "name": "python3"
  },
  "language_info": {
   "codemirror_mode": {
    "name": "ipython",
    "version": 3
   },
   "file_extension": ".py",
   "mimetype": "text/x-python",
   "name": "python",
   "nbconvert_exporter": "python",
   "pygments_lexer": "ipython3",
   "version": "3.12.2"
  }
 },
 "nbformat": 4,
 "nbformat_minor": 2
}
